{
 "cells": [
  {
   "cell_type": "markdown",
   "metadata": {},
   "source": [
    "# KNOWLEDGE\n",
    "\n",
    "The [knowledge](https://github.com/aimacode/aima-python/blob/master/knowledge.py) module covers **Chapter 19: Knowledge in Learning** from Stuart Russel's and Peter Norvig's book *Artificial Intelligence: A Modern Approach*.\n",
    "\n",
    "Execute the cell below to get started."
   ]
  },
  {
   "cell_type": "code",
   "execution_count": 1,
   "metadata": {},
   "outputs": [],
   "source": [
    "from knowledge import *\n",
    "#from notebook import psource"
   ]
  },
  {
   "cell_type": "markdown",
   "metadata": {},
   "source": [
    "## CONTENTS\n",
    "\n",
    "* Overview\n",
    "* Inductive Logic Programming (FOIL)"
   ]
  },
  {
   "cell_type": "markdown",
   "metadata": {},
   "source": [
    "## OVERVIEW\n",
    "\n",
    "Like the [learning module](https://github.com/aimacode/aima-python/blob/master/learning.ipynb), this chapter focuses on methods for generating a model/hypothesis for a domain; however, unlike the learning chapter, here we use prior knowledge to help us learn from new experiences and to find a proper hypothesis.\n",
    "\n",
    "### First-Order Logic\n",
    "\n",
    "Usually knowledge in this field is represented as **first-order logic**, a type of logic that uses variables and quantifiers in logical sentences. Hypotheses are represented by logical sentences with variables, while examples are logical sentences with set values instead of variables. The goal is to assign a value to a special first-order logic predicate, called **goal predicate**, for new examples given a hypothesis. We learn this hypothesis by infering knowledge from some given examples.\n",
    "\n",
    "### Representation\n",
    "\n",
    "In this module, we use dictionaries to represent examples, with keys being the attribute names and values being the corresponding example values. Examples also have an extra boolean field, 'GOAL', for the goal predicate. A hypothesis is represented as a list of dictionaries. Each dictionary in that list represents a disjunction. Inside these dictionaries/disjunctions we have conjunctions.\n",
    "\n",
    "For example, say we want to predict if an animal (cat or dog) will take an umbrella given whether or not it rains or the animal wears a coat. The goal value is 'take an umbrella' and is denoted by the key 'GOAL'. An example:\n",
    "\n",
    "`{'Species': 'Cat', 'Coat': 'Yes', 'Rain': 'Yes', 'GOAL': True}`\n",
    "\n",
    "A hypothesis can be the following:\n",
    "\n",
    "`[{'Species': 'Cat'}]`\n",
    "\n",
    "which means an animal will take an umbrella if and only if it is a cat.\n",
    "\n",
    "### Consistency\n",
    "\n",
    "We say that an example `e` is **consistent** with an hypothesis `h` if the assignment from the hypothesis for `e` is the same as `e['GOAL']`. If the above example and hypothesis are `e` and `h` respectively, then `e` is consistent with `h` since `e['Species'] == 'Cat'`. For `e = {'Species': 'Dog', 'Coat': 'Yes', 'Rain': 'Yes', 'GOAL': True}`, the example is no longer consistent with `h`, since the value assigned to `e` is *False* while `e['GOAL']` is *True*."
   ]
  },
  {
   "cell_type": "markdown",
   "metadata": {},
   "source": [
    "# Inductive Logic Programming (FOIL)\n",
    "\n",
    "Inductive logic programming (ILP) combines inductive methods with the power of first-order representations, concentrating in particular on the representation of hypotheses as logic programs. The general knowledge-based induction problem is to solve the entailment constraint: <br> <br>\n",
    "$ Background ∧ Hypothesis ∧ Descriptions \\vDash Classifications $\n",
    "\n",
    "for the __unknown__ $Hypothesis$, given the $Background$ knowledge described by $Descriptions$ and $Classifications$.\n",
    "\n",
    "\n",
    "\n",
    "The first approach to ILP works by starting with a very general rule and gradually specializing\n",
    "it so that it fits the data. <br> \n",
    "This is essentially what happens in decision-tree learning, where a\n",
    "decision tree is gradually grown until it is consistent with the observations. <br> To do ILP we\n",
    "use first-order literals instead of attributes, and the $Hypothesis$ is a set of clauses (set of first order rules, where each rule is similar to a Horn clause) instead of a decision tree. <br>\n",
    "\n",
    "\n",
    "The FOIL algorithm learns new rules, one at a time, in order to cover all given positive and negative examples. <br>\n",
    "More precicely, FOIL contains an inner and an outer while loop. <br>\n",
    "-  __outer loop__: <font color='blue'>(function __foil()__) </font>  add rules until all positive examples are covered. <br>\n",
    "   (each rule is a conjuction of literals, which are chosen inside the inner loop)\n",
    "   \n",
    "   \n",
    "-  __inner loop__: <font color ='blue'>(function __new_clause()__) </font>  add new literals until all negative examples are covered, and some positive examples are covered. <br>\n",
    "   -  In each iteration, we select/add the most promising literal, according to an estimate of its utility. <font color ='blue'>(function __new_literal()__) </font> <br>\n",
    "   \n",
    "   -  The evaluation function to estimate utility of adding literal $L$ to a set of rules $R$ is <font color ='blue'>(function __gain()__) </font> : \n",
    "   \n",
    "   $$ FoilGain(L,R) = t \\big( \\log_2{\\frac{p_1}{p_1+n_1}} - \\log_2{\\frac{p_0}{p_0+n_0}} \\big) $$\n",
    "      where: \n",
    "      \n",
    "      $p_0: \\text{is the number of possitive bindings of rule R } \\\\ n_0: \\text{is the number of negative bindings of R} \\\\ p_1: \\text{is the is the number of possitive bindings of rule R'}\\\\ n_0: \\text{is the number of negative bindings of R'}\\\\ t: \\text{is the number of possitive bindings of rule R that are still covered after adding literal L to R}$\n",
    "   \n",
    "   - Calculate the extended examples for the chosen literal <font color ='blue'>(function __extend_example()__) </font> <br>\n",
    "        (the set of examples created by extending example with each possible constant value for each new variable in literal)\n",
    "   \n",
    "-  Finally, the algorithm returns a disjunction of first order rules (= conjuction of literals)\n",
    "\n"
   ]
  },
  {
   "cell_type": "code",
   "execution_count": null,
   "metadata": {},
   "outputs": [],
   "source": [
    "psource(FOILContainer)"
   ]
  },
  {
   "cell_type": "markdown",
   "metadata": {},
   "source": [
    "### Example Family \n",
    "Suppose we have the following family relations:\n",
    "<br>\n",
    "![title](images/knowledge_foil_family.png)\n",
    "<br>\n",
    "Given some positive and negative examples of the relation 'Parent(x,y)', we want to find a set of rules that satisfies all the examples. <br>\n",
    "\n",
    "A definition of Parent is $Parent(x,y) \\Leftrightarrow Mother(x,y) \\lor Father(x,y)$, which is the result that we expect from the algorithm. "
   ]
  },
  {
   "cell_type": "code",
   "execution_count": 2,
   "metadata": {},
   "outputs": [],
   "source": [
    "A, B, C, D, E, F, G, H, I, x, y, z = map(expr, 'ABCDEFGHIxyz')"
   ]
  },
  {
   "cell_type": "code",
   "execution_count": 3,
   "metadata": {},
   "outputs": [],
   "source": [
    "small_family = FOILContainer([expr(\"Female(Ann)\"),\n",
    "                              expr(\"Female(Mary)\"),\n",
    "                              expr(\"Female(Eve)\"),\n",
    "                              expr(\"ParentOf(Ann,Mary)\"),\n",
    "                              expr(\"ParentOf(Eve,Tom)\"),\n",
    "])\n",
    "\n",
    "target = expr('DaughterOf(x, y)')\n",
    "\n",
    "examples_pos = [{x: expr('Mary'), y: expr('Ann')},\n",
    "                {x: expr('Mary'), y: expr('Bob')}]\n",
    "examples_neg = [{x: expr('Tom'), y: expr('Ann')},\n",
    "                {x: expr('Tom'), y: expr('Bob')},\n",
    "                {x: expr('Tom'), y: expr('Eve')},\n",
    "                {x: expr('Mary'), y: expr('Eve')}]"
   ]
  },
  {
   "cell_type": "code",
   "execution_count": 4,
   "metadata": {},
   "outputs": [
    {
     "name": "stdout",
     "output_type": "stream",
     "text": [
      "[[Parent(x, y), [Mother(x, y)]], [Parent(x, y), [Father(x, y)]]]\n"
     ]
    }
   ],
   "source": [
    "# run the FOIL algorithm \n",
    "clauses = small_family.foil([examples_pos, examples_neg], target)\n",
    "print (clauses)\n"
   ]
  },
  {
   "cell_type": "markdown",
   "metadata": {},
   "source": [
    "Indeed the algorithm returned the rule: \n",
    "<br>$Parent(x,y) \\Leftrightarrow Mother(x,y) \\lor Father(x,y)$"
   ]
  },
  {
   "cell_type": "markdown",
   "metadata": {},
   "source": [
    "Suppose that we have some positive and negative results for the relation 'GrandParent(x,y)' and we want to find a set of rules that satisfies the examples. <br>\n",
    "One possible set of rules for the relation $Grandparent(x,y)$ could be: <br>\n",
    "![title](images/knowledge_FOIL_grandparent.png)\n",
    "<br>\n",
    "Or, if $Background$ included the sentence $Parent(x,y) \\Leftrightarrow [Mother(x,y) \\lor Father(x,y)]$ then:  \n",
    "\n",
    "$$Grandparent(x,y) \\Leftrightarrow \\exists \\: z \\quad  Parent(x,z) \\land Parent(z,y)$$\n"
   ]
  },
  {
   "cell_type": "code",
   "execution_count": 5,
   "metadata": {},
   "outputs": [
    {
     "name": "stdout",
     "output_type": "stream",
     "text": [
      "[[Grandparent(x, y), [Parent(x, v_7), Parent(v_7, y)]]]\n"
     ]
    }
   ],
   "source": [
    "target = expr('Grandparent(x, y)')\n",
    "\n",
    "examples_pos = [{x: expr('Elizabeth'), y: expr('Peter')},\n",
    "                {x: expr('Elizabeth'), y: expr('Zara')},\n",
    "                {x: expr('Elizabeth'), y: expr('Beatrice')},\n",
    "                {x: expr('Elizabeth'), y: expr('Eugenie')},\n",
    "                {x: expr('Philip'), y: expr('Peter')},\n",
    "                {x: expr('Philip'), y: expr('Zara')},\n",
    "                {x: expr('Philip'), y: expr('Beatrice')},\n",
    "                {x: expr('Philip'), y: expr('Eugenie')}]\n",
    "examples_neg = [{x: expr('Anne'), y: expr('Eugenie')},\n",
    "                {x: expr('Beatrice'), y: expr('Eugenie')},\n",
    "                {x: expr('Elizabeth'), y: expr('Andrew')},\n",
    "                {x: expr('Elizabeth'), y: expr('Anne')},\n",
    "                {x: expr('Elizabeth'), y: expr('Mark')},\n",
    "                {x: expr('Elizabeth'), y: expr('Sarah')},\n",
    "                {x: expr('Philip'), y: expr('Anne')},\n",
    "                {x: expr('Philip'), y: expr('Andrew')},\n",
    "                {x: expr('Anne'), y: expr('Peter')},\n",
    "                {x: expr('Anne'), y: expr('Zara')},\n",
    "                {x: expr('Mark'), y: expr('Peter')},\n",
    "                {x: expr('Mark'), y: expr('Zara')},\n",
    "                {x: expr('Andrew'), y: expr('Beatrice')},\n",
    "                {x: expr('Andrew'), y: expr('Eugenie')},\n",
    "                {x: expr('Sarah'), y: expr('Beatrice')},\n",
    "                {x: expr('Mark'), y: expr('Elizabeth')},\n",
    "                {x: expr('Beatrice'), y: expr('Philip')}, \n",
    "                {x: expr('Peter'), y: expr('Andrew')}, \n",
    "                {x: expr('Zara'), y: expr('Mark')},\n",
    "                {x: expr('Peter'), y: expr('Anne')},\n",
    "                {x: expr('Zara'), y: expr('Eugenie')},     ]\n",
    "\n",
    "clauses = small_family.foil([examples_pos, examples_neg], target)\n",
    "\n",
    "print(clauses)"
   ]
  },
  {
   "cell_type": "markdown",
   "metadata": {},
   "source": [
    "Indeed the algorithm returned the rule: \n",
    "<br>$Grandparent(x,y) \\Leftrightarrow \\exists \\: v \\: \\: Parent(x,v) \\land Parent(v,y)$"
   ]
  },
  {
   "cell_type": "markdown",
   "metadata": {},
   "source": [
    "### Example Network\n",
    "\n",
    "Suppose that we have the following directed graph and we want to find a rule that describes the reachability between two nodes (Reach(x,y)). <br>\n",
    "Such a rule could be recursive, since y can be reached from x if and only if there is a sequence of adjacent nodes from x to y: \n",
    "\n",
    "$$ Reach(x,y) \\Leftrightarrow \\begin{cases} \n",
    "                Conn(x,y), \\: \\text{(if there is a directed edge from x to y)} \\\\\n",
    "                \\lor \\quad \\exists \\: z \\quad Reach(x,z) \\land Reach(z,y) \\end{cases}$$\n"
   ]
  },
  {
   "cell_type": "code",
   "execution_count": 6,
   "metadata": {},
   "outputs": [],
   "source": [
    "\"\"\"\n",
    "A              H\n",
    "|\\            /|\n",
    "| \\          / |\n",
    "v  v        v  v\n",
    "B  D-->E-->G-->I\n",
    "|  /   |\n",
    "| /    |\n",
    "vv     v\n",
    "C      F\n",
    "\"\"\"\n",
    "small_network = FOILContainer([expr(\"Conn(A, B)\"),\n",
    "                               expr(\"Conn(A ,D)\"),\n",
    "                               expr(\"Conn(B, C)\"),\n",
    "                               expr(\"Conn(D, C)\"),\n",
    "                               expr(\"Conn(D, E)\"),\n",
    "                               expr(\"Conn(E ,F)\"),\n",
    "                               expr(\"Conn(E, G)\"),\n",
    "                               expr(\"Conn(G, I)\"),\n",
    "                               expr(\"Conn(H, G)\"),\n",
    "                               expr(\"Conn(H, I)\")])\n"
   ]
  },
  {
   "cell_type": "code",
   "execution_count": 7,
   "metadata": {},
   "outputs": [
    {
     "name": "stdout",
     "output_type": "stream",
     "text": [
      "[[Reach(x, y), [Conn(x, y)]], [Reach(x, y), [Reach(x, v_12), Reach(v_14, y), Reach(v_12, v_16), Reach(v_14, v_16)]], [Reach(x, y), [Reach(x, v_20), Reach(v_20, y)]]]\n"
     ]
    }
   ],
   "source": [
    "target = expr('Reach(x, y)')\n",
    "examples_pos = [{x: A, y: B},\n",
    "                {x: A, y: C},\n",
    "                {x: A, y: D},\n",
    "                {x: A, y: E},\n",
    "                {x: A, y: F},\n",
    "                {x: A, y: G},\n",
    "                {x: A, y: I},\n",
    "                {x: B, y: C},\n",
    "                {x: D, y: C},\n",
    "                {x: D, y: E},\n",
    "                {x: D, y: F},\n",
    "                {x: D, y: G},\n",
    "                {x: D, y: I},\n",
    "                {x: E, y: F},\n",
    "                {x: E, y: G},\n",
    "                {x: E, y: I},\n",
    "                {x: G, y: I},\n",
    "                {x: H, y: G},\n",
    "                {x: H, y: I}]\n",
    "nodes = {A, B, C, D, E, F, G, H, I}\n",
    "examples_neg = [example for example in [{x: a, y: b} for a in nodes for b in nodes]\n",
    "                    if example not in examples_pos]\n",
    "clauses = small_network.foil([examples_pos, examples_neg], target)\n",
    "\n",
    "print(clauses)"
   ]
  },
  {
   "cell_type": "markdown",
   "metadata": {},
   "source": [
    "The algorithm produced something close to the recursive rule: \n",
    " $$ Reach(x,y) \\Leftrightarrow [Conn(x,y)] \\: \\lor \\: [\\exists \\: z \\: \\: Reach(x,z) \\, \\land  \\, Reach(z,y)]$$\n",
    " \n",
    "This happened because the size of the example is small. "
   ]
  }
 ],
 "metadata": {
  "kernelspec": {
   "display_name": "Python 3",
   "language": "python",
   "name": "python3"
  },
  "language_info": {
   "codemirror_mode": {
    "name": "ipython",
    "version": 3
   },
   "file_extension": ".py",
   "mimetype": "text/x-python",
   "name": "python",
   "nbconvert_exporter": "python",
   "pygments_lexer": "ipython3",
   "version": "3.7.6"
  },
  "pycharm": {
   "stem_cell": {
    "cell_type": "raw",
    "metadata": {
     "collapsed": false
    },
    "source": []
   }
  }
 },
 "nbformat": 4,
 "nbformat_minor": 2
}
